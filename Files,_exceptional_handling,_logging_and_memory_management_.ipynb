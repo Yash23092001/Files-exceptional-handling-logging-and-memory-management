{
  "nbformat": 4,
  "nbformat_minor": 0,
  "metadata": {
    "colab": {
      "provenance": []
    },
    "kernelspec": {
      "name": "python3",
      "display_name": "Python 3"
    },
    "language_info": {
      "name": "python"
    }
  },
  "cells": [
    {
      "cell_type": "markdown",
      "source": [
        "#Files, exceptional handling, logging and memory management\n"
      ],
      "metadata": {
        "id": "8YdC6vS8R9Di"
      }
    },
    {
      "cell_type": "markdown",
      "source": [
        "1. What is the difference between interpreted and compiled languages?\n",
        "  \n",
        "- Compiled languages use a compiler to convert code into machine code before execution.\n",
        "\n",
        "  Interpreted languages use an interpreter to run code line-by-line at runtime.\n",
        "\n",
        "   Compiled code is faster because it's pre-translated to machine code.\n",
        "\n",
        "   Interpreted code is slower, as translation happens during execution.\n",
        "\n",
        "   C, C++ are examples of compiled languages.\n",
        "\n",
        "   Python, JavaScript are examples of interpreted languages.\n",
        "\n",
        "   Compilation catches errors before running the program.\n",
        "\n",
        "  Interpreted languages may show errors while running.\n",
        "\n",
        "  Compiled languages are usually platform-dependent.\n",
        "\n",
        "  Interpreted languages are generally more portable.\n"
      ],
      "metadata": {
        "id": "UjBWVMOISFNc"
      }
    },
    {
      "cell_type": "markdown",
      "source": [
        "2.What is exception handling in Python?\n",
        "  -  Exception handling in Python is a way to manage errors that occur during program execution, helping to prevent crashes. It is done using try and except blocks. The code that might cause an error is placed inside the try block. If an exception occurs, the control jumps to the except block where the error can be handled gracefully. Python allows handling specific exceptions like ZeroDivisionError or ValueError for better control. An optional else block can be used if no exceptions are raised, and a finally block runs no matter what, often used for cleanup tasks. This mechanism helps write programs that are more stable and user-friendly.\n"
      ],
      "metadata": {
        "id": "JwUjC_ZtS2zo"
      }
    },
    {
      "cell_type": "markdown",
      "source": [
        "3.What is the purpose of the finally block in exception handling?\n",
        "  - The finally block in exception handling is used to define a section of code that always executes, no matter what happens in the try or except blocks. Its main purpose is to perform cleanup actions, such as closing files, releasing resources, or disconnecting from databases, whether an exception occurred or not.\n",
        "\n",
        "Even if an exception is raised and not handled, or if the program has a return statement in the try or except, the finally block will still run. This ensures that important tasks are completed properly before the program moves on or exits."
      ],
      "metadata": {
        "id": "ZJovGozdTRug"
      }
    },
    {
      "cell_type": "markdown",
      "source": [
        "4.What is logging in Python?\n",
        "  \n",
        "  - Logging in Python is a way to track events that happen when a program runs. It’s useful for debugging, monitoring, and recording errors or important actions in your code.\n",
        "\n",
        "  Python provides a built-in logging module that lets you write messages to the console, files, or other outputs. You can set different levels of messages like:\n",
        "\n",
        "  DEBUG – Detailed info, useful for debugging\n",
        "\n",
        "   INFO – General events, like start/end of a process\n",
        "\n",
        "   WARNING – Something unexpected, but not an error\n",
        "\n",
        "  ERROR – A serious problem\n",
        "\n",
        "  CRITICAL – A severe error that might stop the program"
      ],
      "metadata": {
        "id": "UiM4BTltTj91"
      }
    },
    {
      "cell_type": "markdown",
      "source": [
        "5.What is the significance of the __del__ method in Python?\n",
        "- The __del__ method in Python is known as a destructor. It is called automatically when an object is about to be destroyed, typically when there are no more references to it. The main significance of __del__ is to perform cleanup tasks, such as releasing external resources like files, network connections, or memory that the object may have acquired during its lifetime. It helps ensure that system resources are freed properly. However, its use is generally discouraged for complex resource management because it can behave unpredictably, especially when objects are part of reference cycles or when the interpreter exits. Instead, context managers and the with statement are preferred for more reliable resource handling."
      ],
      "metadata": {
        "id": "WDbFRmDpUPtr"
      }
    },
    {
      "cell_type": "markdown",
      "source": [
        "6.What is the difference between import and from ... import in Python?\n",
        "- In Python, both import and from ... import are used to bring in external modules or specific items from modules, but they work differently.\n",
        "\n",
        "  Using import loads the entire module, and you access its functions or classes using the module name as a prefix. This helps avoid name conflicts and makes the code more readable by showing exactly where a function or class is coming from.\n",
        "\n",
        "  On the other hand, from ... import allows you to import specific functions, classes, or variables directly into your current namespace. This makes the code shorter and more direct but can lead to name conflicts if you're not careful, especially when importing many items from different modules.\n",
        "\n",
        "In short, import is better for clarity and avoiding conflicts, while from ... import is more concise and convenient when you only need specific parts of a module."
      ],
      "metadata": {
        "id": "cKy1eUqVUhXx"
      }
    },
    {
      "cell_type": "markdown",
      "source": [
        "7.How can you handle multiple exceptions in Python?\n",
        "- To handle multiple exceptions in Python, you can either use multiple except blocks, where each block handles a specific type of exception, or you can group multiple exceptions in a single except block using a tuple. Both methods allow you to catch different errors and handle them appropriately, ensuring that the program continues running even if an exception occurs. Using multiple except blocks provides more control and customization for different error types, while grouping exceptions in one block can be more concise when handling similar types of errors."
      ],
      "metadata": {
        "id": "SO4EL7ROUyVr"
      }
    },
    {
      "cell_type": "markdown",
      "source": [
        "8.What is the purpose of the with statement when handling files in Python?\n",
        "  - The with statement in Python is used for resource management and ensures that resources, like files, are properly acquired and released. When handling files, the primary purpose of the with statement is to ensure that the file is automatically closed after its block of code is executed, even if an exception occurs. This eliminates the need for manually calling file.close() and helps prevent file corruption or memory leaks by guaranteeing that resources are cleaned up properly.\n",
        "\n",
        "  Using the with statement simplifies code, improves safety, and makes resource management more efficient by automatically handling the opening and closing of files."
      ],
      "metadata": {
        "id": "jxnozJ78VKuV"
      }
    },
    {
      "cell_type": "markdown",
      "source": [
        "9.What is the difference between multithreading and multiprocessing?\n",
        " - Multithreading:\n",
        "Involves running multiple threads within a single process.\n",
        "\n",
        "Threads share the same memory space, which makes communication between them easier and faster.\n",
        "\n",
        "Best suited for tasks that involve I/O-bound operations (e.g., file reading/writing, network requests) since threads can run concurrently while waiting for I/O operations to complete.\n",
        "\n",
        "Due to Global Interpreter Lock (GIL) in Python, only one thread can execute Python bytecode at a time, making multithreading less effective for CPU-bound tasks.\n",
        "\n",
        "Multiprocessing:\n",
        "Involves running multiple processes, each with its own memory space.\n",
        "\n",
        "Processes do not share memory, making communication between them more complex and slower compared to threads.\n",
        "\n",
        "Best suited for CPU-bound tasks (e.g., heavy computations) as each process can run on a different core of the CPU, fully utilizing multicore processors.\n",
        "\n",
        "No GIL limitation, so processes can execute concurrently on multiple CPU cores."
      ],
      "metadata": {
        "id": "3vzWh7eGVcmM"
      }
    },
    {
      "cell_type": "markdown",
      "source": [
        "10.What are the advantages of using logging in a program?\n",
        "  - Better Debugging: Logging allows you to record detailed information about the program’s execution, which can be helpful for identifying issues or bugs.\n",
        "\n",
        "Flexible Output: With logging, you can control where the log messages go (e.g., to a file, console, or remote server) and customize the format, making it easy to track important events.\n",
        "\n",
        "Different Log Levels: It supports different log levels (e.g., DEBUG, INFO, WARNING, ERROR, CRITICAL), allowing you to filter and prioritize messages based on severity.\n",
        "\n",
        "Persistent Logs: Unlike print statements, logs are stored persistently (in files or databases), making it easier to review historical information or track long-term trends.\n",
        "\n",
        "Non-Disruptive: Logging does not interrupt the flow of the program. It can continue running while errors or other events are recorded without causing any interruption.\n",
        "\n",
        "Traceability: Logs can provide a trace of events or actions, which is useful for auditing, monitoring system performance, and troubleshooting.\n",
        "\n",
        "Easy to Turn On/Off: You can easily adjust the logging level or turn off logging in production without changing the actual code logic, which is more flexible than hardcoding print statements.\n",
        "\n",
        "Better Performance for Production: Unlike print statements, which are generally slow and could degrade performance, logging can be set to write asynchronously or at specific intervals, improving overall performance."
      ],
      "metadata": {
        "id": "rtDMBHckVuuE"
      }
    },
    {
      "cell_type": "markdown",
      "source": [
        "11.What is memory management in Python?\n",
        "  -\n",
        "Memory management in Python refers to the process of allocating, tracking, and freeing memory used by objects during the execution of a Python program. Python uses several mechanisms to manage memory efficiently, including:\n",
        "\n",
        "  Automatic Garbage Collection: Python automatically manages memory through its built-in garbage collector. It keeps track of all objects in memory and frees up memory used by objects that are no longer referenced, thus preventing memory leaks.\n",
        "\n",
        "  Reference Counting: Every object in Python has a reference count, which tracks how many references point to that object. When the reference count drops to zero, meaning no references to the object exist, it is automatically deleted.\n",
        "\n",
        "  Memory Pooling: Python uses a memory management system called pymalloc that pools memory for small objects. This reduces the overhead of frequent memory allocation and deallocation by reusing memory blocks.\n",
        "\n",
        "  Dynamic Typing: Python is dynamically typed, meaning objects are allocated memory as needed during runtime. This allows flexibility but also requires careful memory handling to ensure efficient use of memory resources.\n",
        "\n",
        "  Explicit Memory Management: While Python handles most memory management automatically, the del statement can be used to explicitly delete objects. However, explicit memory management is generally not needed unless you're working with a specific resource that requires it, like files or network connections."
      ],
      "metadata": {
        "id": "VZ_w4q1fV66E"
      }
    },
    {
      "cell_type": "markdown",
      "source": [
        "12.What are the basic steps involved in exception handling in Python?\n",
        " - Identify the code that might raise an exception:\n",
        "  Determine which part of the code could potentially cause an error (like division by zero, file not found, etc.).\n",
        "\n",
        "  Use the try block:\n",
        "  Place the code that might raise an exception inside the try block. This tells Python to \"try\" executing the code.\n",
        "\n",
        "  Handle the exception using except:\n",
        "  If an error occurs in the try block, the control is transferred to the corresponding except block. This block specifies the type of exception to catch and the code to handle it.\n",
        "\n",
        "  Optional: Use else block:\n",
        "  The else block (if used) executes if no exception occurs in the try block. It’s useful for code that should only run when the try block completes successfully.\n",
        "\n",
        "  Optional: Use finally block:\n",
        "  The finally block, if present, is always executed regardless of whether an exception occurs or not. It's typically used for clean-up tasks (like closing files or releasing resources)."
      ],
      "metadata": {
        "id": "dbXYY9ajWUbO"
      }
    },
    {
      "cell_type": "markdown",
      "source": [
        "13.Why is memory management important in Python?\n",
        "  - Memory management in Python is important because it directly impacts the performance and efficiency of a program. Proper memory management ensures that resources are used optimally, preventing issues like memory leaks and unnecessary memory usage, which can degrade performance and cause the program to crash. Here are the main reasons why memory management is crucial:\n",
        "\n",
        "  Efficient Resource Usage: By managing memory properly, Python programs can use system resources like RAM efficiently, allowing them to handle larger datasets or run for longer periods without running into memory-related issues.\n",
        "\n",
        "  Avoid Memory Leaks: If memory is not properly managed or freed when no longer needed, memory leaks can occur. This can cause the program to consume more and more memory over time, slowing down the system and potentially leading to crashes.\n",
        "\n",
        "  Optimized Performance: Python uses memory management techniques like garbage collection and memory pooling to reduce overhead and improve the performance of the program. Efficient memory management helps in reducing the time and resources spent on memory allocation and deallocation.\n",
        "\n",
        "  Automatic Cleanup: Python’s garbage collection automatically frees up memory used by objects that are no longer in use. This allows developers to focus more on program logic instead of manual memory management, while still ensuring that memory is freed up appropriately.\n",
        "\n",
        "  Better Scalability: Programs with good memory management can handle larger workloads and scale more effectively, especially in applications that process large datasets or perform intensive computations.\n",
        "\n",
        "  Prevents Crashes and Slowdowns: Poor memory management can lead to issues such as OutOfMemoryError or performance degradation, which can disrupt the normal execution of the program. Proper memory handling ensures smooth operation, even under heavy loads."
      ],
      "metadata": {
        "id": "2JOf7bDkZOer"
      }
    },
    {
      "cell_type": "markdown",
      "source": [
        "14.What is the role of try and except in exception handling?\n",
        " - In exception handling, the try and except blocks play a crucial role in managing errors or exceptional conditions that may occur during program execution.\n",
        "\n",
        "  Role of try:\n",
        "  The try block is used to write code that might raise an exception. It allows Python to attempt executing the code inside the block.\n",
        "\n",
        "  If no exception occurs, the code in the try block runs normally and the program continues.\n",
        "\n",
        "  However, if an exception is raised during execution, Python stops executing the code inside the try block and moves to the corresponding except block.\n",
        "\n",
        "  Role of except:\n",
        "  The except block is used to handle the exception raised in the try block.\n",
        "\n",
        "  It allows the program to respond to the error (e.g., by printing a message, correcting the issue, or performing a recovery action).\n",
        "\n",
        "  You can specify the type of exception to catch, such as ValueError, ZeroDivisionError, or FileNotFoundError. If no specific exception is mentioned, it will catch all types of exceptions."
      ],
      "metadata": {
        "id": "R5Y8ArZWZsi0"
      }
    },
    {
      "cell_type": "markdown",
      "source": [
        "15.How does Python's garbage collection system work?\n",
        "  - Python's garbage collection system is responsible for managing memory by automatically cleaning up objects that are no longer in use. It relies primarily on reference counting to track how many references point to an object. When the reference count of an object drops to zero, meaning no part of the program is using it anymore, the object is considered unreachable and can be safely deleted, freeing the memory.\n",
        "\n",
        "  However, reference counting has limitations, especially when dealing with cyclic references, where two or more objects reference each other, creating a cycle. These cycles can cause memory to be retained even if the objects are no longer accessible from the rest of the program. To address this, Python incorporates a cyclic garbage collector that periodically checks for such cycles and breaks them down, allowing the memory to be reclaimed.\n",
        "\n",
        "  Python uses a generational garbage collection strategy, which assumes that most objects tend to become unreachable quickly. Objects are divided into three generations, and the garbage collector focuses on younger generations more frequently. Objects that survive multiple garbage collection cycles are promoted to older generations and are collected less often. This method optimizes the performance of the garbage collection process by collecting short-lived objects more frequently while spending less time on objects that are likely to remain in use for longer periods."
      ],
      "metadata": {
        "id": "2Ml0dVYRZ-6i"
      }
    },
    {
      "cell_type": "markdown",
      "source": [
        "16.What is the purpose of the else block in exception handling?\n",
        "  - The else block in exception handling in Python is used to define code that should run only if no exceptions were raised in the corresponding try block. Its main purpose is to provide a clean and organized way to execute certain tasks when the code in the try block completes without errors.\n",
        "\n",
        "  If an exception occurs in the try block, the code in the else block is skipped. However, if no exceptions are raised, the else block is executed after the try block completes successfully. This is particularly useful when you want to execute some code that should only happen if the operation was successful and didn’t raise an exception.\n",
        "\n",
        "  In summary, the else block helps to separate normal, error-free execution flow from the exception-handling logic, keeping the code clean and making it easier to understand."
      ],
      "metadata": {
        "id": "PbmkTZhyaQ_o"
      }
    },
    {
      "cell_type": "markdown",
      "source": [
        "17.What are the common logging levels in Python?\n",
        "  - In Python, the logging module provides several log levels to categorize the severity of events or messages that are logged during the execution of a program. These levels help control the verbosity of logs and allow you to filter out unnecessary information.\n",
        "\n",
        "  The common logging levels in Python, from lowest to highest severity, are:\n",
        "\n",
        "   DEBUG:\n",
        "  This is the lowest level and provides detailed information, typically used for diagnosing problems and debugging. It includes all messages that can help track the flow of the program and values of variables.\n",
        "\n",
        "  INFO:\n",
        "  This level is used for general information about the program’s execution. It typically includes messages indicating the start or completion of tasks, key milestones, or the status of ongoing operations.\n",
        "\n",
        "  WARNING:\n",
        "  This level is used to indicate that something unexpected occurred, but it’s not critical and doesn’t stop the program from running. It could signal potential issues that might require attention but don’t necessarily need immediate action.\n",
        "\n",
        "  ERROR:\n",
        "  This level indicates that a serious problem occurred, which might affect the program’s functionality. It’s used when an operation fails, but the program can continue running.\n",
        "\n",
        "  CRITICAL:\n",
        "  This is the highest level of logging and is used to log severe errors or critical issues that might cause the program to stop or crash. These messages often represent situations that need immediate attention."
      ],
      "metadata": {
        "id": "g6rhbSsSacHq"
      }
    },
    {
      "cell_type": "markdown",
      "source": [
        "18.What is the difference between os.fork() and multiprocessing in Python?\n",
        "  - The key difference between os.fork() and the multiprocessing module in Python lies in how they create and manage new processes and their associated capabilities.\n",
        "\n",
        "   os.fork():\n",
        "  os.fork() is a lower-level function available in Unix-like operating systems (Linux, macOS) that creates a new process by duplicating the current process.\n",
        "\n",
        "   It works by creating a child process that is an almost exact copy of the parent process. After the fork, both the parent and child processes run in parallel, with the child process getting a unique process ID (PID).\n",
        "\n",
        "   os.fork() is typically used in system-level programming for managing process creation directly, but it’s not cross-platform (won't work on Windows).\n",
        "\n",
        "   After forking, the code will continue to execute from the point of the fork(), but with separate memory spaces. The parent and child can distinguish themselves using the return value of fork().\n",
        "\n",
        "  It does not provide an easy way to manage inter-process communication (IPC) or handle process synchronization. Additional mechanisms like os.pipe() or shared memory might be needed.\n",
        "\n",
        "  multiprocessing module:\n",
        "  The multiprocessing module is a higher-level Python library designed for creating and managing processes in a more portable and user-friendly way.\n",
        "\n",
        "  It is cross-platform and works on Windows as well as Unix-based systems, unlike os.fork().\n",
        "\n",
        "  multiprocessing creates new processes using different mechanisms depending on the platform (e.g., it uses fork() on Unix, and on Windows, it spawns a new process).\n",
        "\n",
        "  It provides built-in support for inter-process communication (IPC) and process synchronization using mechanisms like queues, pipes, and locks. This makes it much easier to share data and synchronize processes without needing to manually manage low-level details.\n",
        "\n",
        "  The module includes additional features like process pooling (e.g., Pool class for parallel processing) and the ability to pass arguments and return values between processes easily."
      ],
      "metadata": {
        "id": "YBEuBZHpax-U"
      }
    },
    {
      "cell_type": "markdown",
      "source": [
        "19.What is the importance of closing a file in Python?\n",
        " -\n",
        "Closing a file in Python is important because it ensures that all the resources associated with the file, such as memory and file handles, are properly released. When you open a file using the open() function, Python allocates system resources (like file descriptors) to interact with the file. If the file is not closed properly, these resources might not be released, which can lead to several issues:\n",
        "\n",
        "  Resource Leaks: If files are left open, the system may eventually run out of file descriptors (the maximum number of files that can be opened simultaneously), causing the program to fail when trying to open additional files.\n",
        "\n",
        "  Data Integrity: When writing data to a file, Python buffers the data in memory for efficiency. Closing the file ensures that any buffered data is flushed to the disk, meaning that all changes to the file are saved correctly. If the file is not closed, some data might not be written properly, resulting in incomplete or corrupted files.\n",
        "\n",
        "  File Locking: In some systems, files can be locked when they are open, preventing other programs or processes from accessing them. Properly closing a file releases the lock and allows other processes to access the file.\n",
        "\n",
        "  System Performance: Keeping too many files open unnecessarily can degrade the system's performance. It’s good practice to close files as soon as you're done with them to free up resources."
      ],
      "metadata": {
        "id": "BxDbxJrDbP28"
      }
    },
    {
      "cell_type": "markdown",
      "source": [
        "20.What is the difference between file.read() and file.readline() in Python?\n",
        "  - The difference between file.read() and file.readline() in Python lies in how they read the contents of a file:\n",
        "\n",
        "  file.read():\n",
        "\n",
        "  Reads the entire content of the file at once, returning it as a single string.\n",
        "\n",
        "  It is commonly used when you want to load the entire file into memory, especially for small files.\n",
        "\n",
        "  If the file is large, using file.read() could consume a lot of memory since it loads everything at once.\n",
        "\n",
        "  file.readline():\n",
        "\n",
        "  Reads one line at a time from the file.\n",
        "\n",
        "  It returns a string containing the next line from the file, including the newline character (\\n) at the end of the line.\n",
        "\n",
        "  This method is useful for processing files line-by-line, as it allows for more memory-efficient handling, especially with large files where you might not want to load the entire content at once."
      ],
      "metadata": {
        "id": "1g7dG85ObgN0"
      }
    },
    {
      "cell_type": "markdown",
      "source": [
        "21.What is the logging module in Python used for?\n",
        "  -\n",
        "The logging module in Python is used for tracking and recording events that occur during the execution of a program. It provides a flexible framework for generating logs at various levels of severity and can be configured to log messages to different outputs, such as the console, files, or remote servers.\n",
        "\n",
        "  Here are the main purposes and benefits of using the logging module:\n",
        "\n",
        "  Record Events: It allows you to capture events, errors, or general information that occur during the execution of the program. These logs can be helpful for debugging, monitoring, and understanding how the program behaves over time.\n",
        "\n",
        "  Log Levels: The logging module supports different log levels to categorize the severity of the messages. These levels include:\n",
        "\n",
        "   DEBUG: Detailed information used for diagnosing issues.\n",
        "\n",
        "   INFO: General information about the execution of the program.\n",
        "\n",
        "   WARNING: An indication of something unexpected or potentially problematic, but not a critical issue.\n",
        "\n",
        "  ERROR: Used when the program encounters an error or issue that prevents normal execution.\n",
        "\n",
        "  CRITICAL: For very serious errors that might cause the program to crash or fail.\n",
        "\n",
        "   Configurability: The logging module allows you to configure logging behavior easily. You can control where the logs are written (console, files, remote servers), the format of the log messages, and the logging level. This flexibility makes it easy to integrate logging into different types of applications.\n",
        "\n",
        "   Persistence: By writing logs to files or external systems, logs provide a way to persist information for later analysis, even after the program has finished executing. This is especially useful for long-running applications or production environments.\n",
        "\n",
        "   Error Tracking: Logs can help track and identify issues that occur in production environments, allowing developers to monitor the program’s health and troubleshoot errors more effectively.\n",
        "\n",
        "  Improved Debugging: During development, logs can be used to trace and debug the flow of the application, identify where things went wrong, and analyze issues in specific parts of the code."
      ],
      "metadata": {
        "id": "40AEw6GpcJ6x"
      }
    },
    {
      "cell_type": "markdown",
      "source": [
        "22. What is the os module in Python used for in file handling?\n",
        "   -\n",
        "The os module in Python is used for interacting with the operating system and provides a range of functions that allow you to perform file handling and other system-level operations. In the context of file handling, the os module provides several useful functions for working with files and directories, including creating, deleting, and manipulating files.\n",
        "\n",
        "Here are some of the key functions from the os module that are commonly used for file handling:\n",
        "\n",
        "os.rename():\n",
        "\n",
        "Renames a file or directory. It takes two arguments: the current name of the file or directory and the new name.\n",
        "\n",
        "os.remove() (or os.unlink()):\n",
        "\n",
        "Deletes a file from the filesystem. If the file does not exist, it raises an error.\n",
        "\n",
        "os.rmdir():\n",
        "\n",
        "Removes an empty directory. It will raise an error if the directory is not empty.\n",
        "\n",
        "os.mkdir():\n",
        "\n",
        "Creates a new directory. It can take a path and will create the directory in the specified location.\n",
        "\n",
        "os.path.join():\n",
        "\n",
        "Joins one or more path components intelligently, ensuring that the directory separators are handled correctly across different operating systems.\n",
        "\n",
        "os.path.exists():\n",
        "\n",
        "Checks whether a file or directory exists at a given path. It returns True if the file or directory exists, otherwise False.\n",
        "\n",
        "os.path.getsize():\n",
        "\n",
        "Returns the size of a file in bytes. It helps to check the size of a file before performing operations like reading or writing.\n",
        "\n",
        "os.path.isdir() and os.path.isfile():\n",
        "\n",
        "Check if a given path is a directory or a file, respectively. This is useful for verifying the type of a given path before performing operations.\n",
        "\n",
        "os.walk():\n",
        "\n",
        "Generates the file names in a directory tree by walking the tree either top-down or bottom-up. This function is useful for traversing directories and subdirectories to handle multiple files.\n",
        "\n",
        "os.chdir():\n",
        "\n",
        "Changes the current working directory to the specified path. This is useful for changing the directory context during file handling operations."
      ],
      "metadata": {
        "id": "7CMhgAYCc4OJ"
      }
    },
    {
      "cell_type": "markdown",
      "source": [
        "23. What are the challenges associated with memory management in Python?\n",
        "  - Memory management in Python, though largely automated, presents several challenges that can impact performance and efficiency. One of the main mechanisms Python uses for memory management is reference counting, where each object keeps track of how many references point to it. When the reference count reaches zero, the object is deleted and memory is freed. However, cyclic references—when two or more objects reference each other—can create situations where memory is not freed, even though the objects are no longer in use. Python’s garbage collector addresses this issue by detecting and cleaning up such cycles, but this process is not always perfect and can sometimes lead to memory leaks.\n",
        "\n",
        "   Another challenge is the overhead introduced by garbage collection itself. Although garbage collection is necessary, it can sometimes result in performance issues, especially in large or complex programs. The collector runs periodically to clean up unreachable objects, and depending on the number and type of objects, this can slow down the program. Additionally, Python uses a generational garbage collection system, categorizing objects into generations based on their lifespan. Objects that survive longer are moved to older generations, which are collected less frequently. However, if there is a large number of objects in the older generations, the garbage collector might take longer to scan them, adding to the overhead.\n",
        "\n",
        "   Memory fragmentation is another issue that arises when the memory allocator divides the heap into smaller chunks over time. As objects are allocated and deallocated, small unused blocks of memory can accumulate, leading to inefficient memory usage. This is particularly problematic in long-running programs where memory is frequently allocated and freed. The issue is compounded when handling large data structures in memory. Since Python objects themselves have significant internal overhead (even simple integers are stored as objects), large lists or dictionaries can consume a lot of memory. This can become an issue in programs that work with large datasets, as it may lead to out-of-memory errors or excessive memory consumption.\n",
        "\n",
        "  Additionally, Python's dynamic nature complicates memory management. Objects such as lists and dictionaries can change their size and structure during runtime, which adds complexity to memory allocation. The management of C extensions also presents challenges, as these low-level extensions often need to manually handle memory allocation. If not done properly, they can lead to memory leaks that are hard to track down."
      ],
      "metadata": {
        "id": "BtDlUh0idR-5"
      }
    },
    {
      "cell_type": "code",
      "source": [
        "#1.How can you open a file for writing in Python and write a string to it?\n",
        "file = open('example.txt', 'w')\n",
        "\n",
        "# Write a string to the file\n",
        "file.write('Hello, this is a string written to the file.')\n",
        "\n",
        "# Close the file after writing\n",
        "file.close()"
      ],
      "metadata": {
        "id": "QLhMBLMjd64r"
      },
      "execution_count": 2,
      "outputs": []
    },
    {
      "cell_type": "code",
      "source": [
        "#2.Write a Python program to read the contents of a file and print each line?\n",
        " # Open the file for reading\n",
        "with open('example.txt', 'r') as file:\n",
        "    # Read and print each line from the file\n",
        "    for line in file:\n",
        "        print(line, end='')  # end='' prevents adding extra newlines\n"
      ],
      "metadata": {
        "colab": {
          "base_uri": "https://localhost:8080/"
        },
        "id": "j7zoabC7UFtu",
        "outputId": "f9cbfb05-0b3f-4e4b-c69c-3c30e18b943f"
      },
      "execution_count": 3,
      "outputs": [
        {
          "output_type": "stream",
          "name": "stdout",
          "text": [
            "Hello, this is a string written to the file."
          ]
        }
      ]
    },
    {
      "cell_type": "code",
      "source": [
        "#3.How would you handle a case where the file doesn't exist while trying to open it for reading?\n",
        "try:\n",
        "    # Attempt to open the file for reading\n",
        "    with open('example.txt', 'r') as file:\n",
        "        # Read and print each line from the file\n",
        "        for line in file:\n",
        "            print(line, end='')  # end='' prevents extra newlines\n",
        "except FileNotFoundError:\n",
        "    # Handle the case where the file does not exist\n",
        "    print(\"Error: The file does not exist.\")\n",
        "\n"
      ],
      "metadata": {
        "colab": {
          "base_uri": "https://localhost:8080/"
        },
        "id": "rzqdLhE6e1ko",
        "outputId": "0564997e-023e-4d57-f7d1-cd4157eef1f5"
      },
      "execution_count": 6,
      "outputs": [
        {
          "output_type": "stream",
          "name": "stdout",
          "text": [
            "Hello, this is a string written to the file."
          ]
        }
      ]
    },
    {
      "cell_type": "code",
      "source": [
        "#4.Write a Python script that reads from one file and writes its content to another file\n",
        "# Read from source file and write to destination file\n",
        "try:\n",
        "    with open('source.txt', 'r') as source_file:\n",
        "        content = source_file.read()\n",
        "\n",
        "    with open('destination.txt', 'w') as destination_file:\n",
        "        destination_file.write(content)\n",
        "\n",
        "    print(\"File copied successfully.\")\n",
        "except FileNotFoundError:\n",
        "    print(\"Error: Source file not found.\")\n",
        "except IOError:\n",
        "    print(\"Error: An I/O error occurred.\")\n"
      ],
      "metadata": {
        "colab": {
          "base_uri": "https://localhost:8080/"
        },
        "id": "sbDTh3eAfk0o",
        "outputId": "ced6a695-ff48-4832-d4ff-2d75f4c97308"
      },
      "execution_count": 7,
      "outputs": [
        {
          "output_type": "stream",
          "name": "stdout",
          "text": [
            "Error: Source file not found.\n"
          ]
        }
      ]
    },
    {
      "cell_type": "code",
      "source": [
        "#5.How would you catch and handle division by zero error in Python?\n",
        "try:\n",
        "    result = 10 / 0\n",
        "    print(\"Result:\", result)\n",
        "except ZeroDivisionError:\n",
        "    print(\"Error: Division by zero is not allowed.\")\n"
      ],
      "metadata": {
        "colab": {
          "base_uri": "https://localhost:8080/"
        },
        "id": "xaHvDR0Pf8CW",
        "outputId": "df78813b-50d4-45dc-bedc-5619de506d80"
      },
      "execution_count": 8,
      "outputs": [
        {
          "output_type": "stream",
          "name": "stdout",
          "text": [
            "Error: Division by zero is not allowed.\n"
          ]
        }
      ]
    },
    {
      "cell_type": "code",
      "source": [
        "#6.Write a Python program that logs an error message to a log file when a division by zero exception occurs?\n",
        "import logging\n",
        "\n",
        "# Configure logging to write messages to a file\n",
        "logging.basicConfig(filename='error.log', level=logging.ERROR,\n",
        "                    format='%(asctime)s - %(levelname)s - %(message)s')\n",
        "\n",
        "try:\n",
        "    result = 10 / 0\n",
        "    print(\"Result:\", result)\n",
        "except ZeroDivisionError as e:\n",
        "    logging.error(\"Division by zero error occurred: %s\", e)\n",
        "    print(\"An error occurred. Check the log file for details.\")\n"
      ],
      "metadata": {
        "colab": {
          "base_uri": "https://localhost:8080/"
        },
        "id": "wPPL-BcVgUFr",
        "outputId": "fe828b49-1d0b-4183-b49c-c9502151eae2"
      },
      "execution_count": 9,
      "outputs": [
        {
          "output_type": "stream",
          "name": "stderr",
          "text": [
            "ERROR:root:Division by zero error occurred: division by zero\n"
          ]
        },
        {
          "output_type": "stream",
          "name": "stdout",
          "text": [
            "An error occurred. Check the log file for details.\n"
          ]
        }
      ]
    },
    {
      "cell_type": "code",
      "source": [
        "#7.How do you log information at different levels (INFO, ERROR, WARNING) in Python using the logging module?\n",
        "import logging\n",
        "\n",
        "# Configure the logging system\n",
        "logging.basicConfig(filename='app.log', level=logging.DEBUG,\n",
        "                    format='%(asctime)s - %(levelname)s - %(message)s')\n",
        "\n",
        "# Logging at different levels\n",
        "logging.info(\"This is an informational message.\")\n",
        "logging.warning(\"This is a warning message.\")\n",
        "logging.error(\"This is an error message.\")\n"
      ],
      "metadata": {
        "colab": {
          "base_uri": "https://localhost:8080/"
        },
        "id": "BNSpWEmchIhV",
        "outputId": "02d1561b-0755-4915-e924-b5d42a5e906b"
      },
      "execution_count": 10,
      "outputs": [
        {
          "output_type": "stream",
          "name": "stderr",
          "text": [
            "WARNING:root:This is a warning message.\n",
            "ERROR:root:This is an error message.\n"
          ]
        }
      ]
    },
    {
      "cell_type": "code",
      "source": [
        "#8.Write a program to handle a file opening error using exception handling\n",
        "try:\n",
        "    # Try to open a file that may not exist\n",
        "    with open('non_existent_file.txt', 'r') as file:\n",
        "        content = file.read()\n",
        "        print(content)\n",
        "except FileNotFoundError:\n",
        "    # Handle the case where the file is missing\n",
        "    print(\"Error: The file you are trying to open does not exist.\")\n",
        "except IOError:\n",
        "    # Handle other I/O errors\n",
        "    print(\"Error: An I/O error occurred while opening the file.\")\n",
        "\n"
      ],
      "metadata": {
        "colab": {
          "base_uri": "https://localhost:8080/"
        },
        "id": "8BeyQRjlh5wc",
        "outputId": "6b86cf97-776d-43ac-dcee-dff0d0eea386"
      },
      "execution_count": 11,
      "outputs": [
        {
          "output_type": "stream",
          "name": "stdout",
          "text": [
            "Error: The file you are trying to open does not exist.\n"
          ]
        }
      ]
    },
    {
      "cell_type": "code",
      "source": [
        "#9.How can you read a file line by line and store its content in a list in Python?\n",
        "# Open the file and read lines into a list\n",
        "with open('example.txt', 'r') as file:\n",
        "    lines = file.readlines()\n",
        "\n",
        "# Now 'lines' is a list where each element is a line from the file\n",
        "print(lines)\n"
      ],
      "metadata": {
        "colab": {
          "base_uri": "https://localhost:8080/"
        },
        "id": "pE2KQWBciIjx",
        "outputId": "a1366d08-4ef2-4f0b-aae5-8a1c72b17f1a"
      },
      "execution_count": 12,
      "outputs": [
        {
          "output_type": "stream",
          "name": "stdout",
          "text": [
            "['Hello, this is a string written to the file.']\n"
          ]
        }
      ]
    },
    {
      "cell_type": "code",
      "source": [
        "#10.How can you append data to an existing file in Python?\n",
        "# Open the file in append mode and write new data\n",
        "with open('example.txt', 'a') as file:\n",
        "    file.write('This is a new line being appended.\\n')\n"
      ],
      "metadata": {
        "id": "7kgiAUn0iTki"
      },
      "execution_count": 14,
      "outputs": []
    },
    {
      "cell_type": "code",
      "source": [
        "#11.Write a Python program that uses a try-except block to handle an error when attempting to access a dictionary key that doesn't exist?\n",
        "# Sample dictionary\n",
        "student = {\n",
        "    'name': 'Alice',\n",
        "    'age': 22\n",
        "}\n",
        "\n",
        "try:\n",
        "    # Attempt to access a key that may not exist\n",
        "    print(\"Student grade:\", student['grade'])\n",
        "except KeyError:\n",
        "    # Handle the missing key error\n",
        "    print(\"Error: 'grade' key not found in the dictionary.\")\n"
      ],
      "metadata": {
        "colab": {
          "base_uri": "https://localhost:8080/"
        },
        "id": "tw2jcC9_ipSr",
        "outputId": "c9e65341-37c6-4479-cfe2-8fa6655dad31"
      },
      "execution_count": 15,
      "outputs": [
        {
          "output_type": "stream",
          "name": "stdout",
          "text": [
            "Error: 'grade' key not found in the dictionary.\n"
          ]
        }
      ]
    },
    {
      "cell_type": "code",
      "source": [
        "#12.F Write a program that demonstrates using multiple except blocks to handle different types of exceptions\n",
        "try:\n",
        "    # Try to perform various operations that may raise exceptions\n",
        "    num1 = int(input(\"Enter a number: \"))\n",
        "    num2 = int(input(\"Enter another number: \"))\n",
        "\n",
        "    # Try division operation, might raise ZeroDivisionError\n",
        "    result = num1 / num2\n",
        "    print(\"Result:\", result)\n",
        "\n",
        "    # Try to open a file that may not exist\n",
        "    with open('example.txt', 'r') as file:\n",
        "        content = file.read()\n",
        "        print(content)\n",
        "\n",
        "except ValueError:\n",
        "    # Handle invalid integer input\n",
        "    print(\"Error: Invalid input. Please enter a valid number.\")\n",
        "except ZeroDivisionError:\n",
        "    # Handle division by zero error\n",
        "    print(\"Error: Cannot divide by zero.\")\n",
        "except FileNotFoundError:\n",
        "    # Handle file not found error\n",
        "    print(\"Error: The file does not exist.\")\n",
        "except Exception as e:\n",
        "    # Handle any other exception\n",
        "    print(f\"An unexpected error occurred: {e}\")\n"
      ],
      "metadata": {
        "colab": {
          "base_uri": "https://localhost:8080/"
        },
        "id": "fTv68tTsi6Sh",
        "outputId": "164851da-07ac-4e2b-f632-3f61d9fc70c4"
      },
      "execution_count": 16,
      "outputs": [
        {
          "output_type": "stream",
          "name": "stdout",
          "text": [
            "Enter a number: 23\n",
            "Enter another number: 45\n",
            "Result: 0.5111111111111111\n",
            "Hello, this is a string written to the file.This is a new line being appended.\n",
            "This is a new line being appended.\n",
            "\n"
          ]
        }
      ]
    },
    {
      "cell_type": "code",
      "source": [
        "#13 How would you check if a file exists before attempting to read it in Python?\n",
        "import os\n",
        "\n",
        "file_path = 'example.txt'\n",
        "\n",
        "# Check if the file exists before opening it\n",
        "if os.path.exists(file_path):\n",
        "    with open(file_path, 'r') as file:\n",
        "        content = file.read()\n",
        "        print(content)\n",
        "else:\n",
        "    print(f\"The file '{file_path}' does not exist.\")\n"
      ],
      "metadata": {
        "colab": {
          "base_uri": "https://localhost:8080/"
        },
        "id": "Z4rpikKnjG4X",
        "outputId": "f2979d49-8229-464d-d2ff-bccc127f2a64"
      },
      "execution_count": 17,
      "outputs": [
        {
          "output_type": "stream",
          "name": "stdout",
          "text": [
            "Hello, this is a string written to the file.This is a new line being appended.\n",
            "This is a new line being appended.\n",
            "\n"
          ]
        }
      ]
    },
    {
      "cell_type": "code",
      "source": [
        "#14  Write a program that uses the logging module to log both informational and error messages?\n",
        "import logging\n",
        "\n",
        "# Configure logging to log messages to a file\n",
        "logging.basicConfig(filename='app.log', level=logging.DEBUG,\n",
        "                    format='%(asctime)s - %(levelname)s - %(message)s')\n",
        "\n",
        "# Log an informational message\n",
        "logging.info('This is an informational message.')\n",
        "\n",
        "try:\n",
        "    # Simulate a division by zero error\n",
        "    result = 10 / 0\n",
        "except ZeroDivisionError as e:\n",
        "    # Log an error message\n",
        "    logging.error('An error occurred: %s', e)\n",
        "\n",
        "# Log another informational message\n",
        "logging.info('This is another informational message after the error.')\n"
      ],
      "metadata": {
        "colab": {
          "base_uri": "https://localhost:8080/"
        },
        "id": "5K8Bdy5ZjSu3",
        "outputId": "39d500bd-dc84-404a-bf80-04c0b73c8b66"
      },
      "execution_count": 18,
      "outputs": [
        {
          "output_type": "stream",
          "name": "stderr",
          "text": [
            "ERROR:root:An error occurred: division by zero\n"
          ]
        }
      ]
    },
    {
      "cell_type": "code",
      "source": [
        "#15. Write a Python program that prints the content of a file and handles the case when the file is empty?\n",
        "try:\n",
        "    # Open the file in read mode\n",
        "    with open('example.txt', 'r') as file:\n",
        "        content = file.read()\n",
        "\n",
        "        # Check if the file is empty\n",
        "        if not content:\n",
        "            print(\"The file is empty.\")\n",
        "        else:\n",
        "            print(\"File content:\\n\", content)\n",
        "except FileNotFoundError:\n",
        "    print(\"Error: The file does not exist.\")\n",
        "except IOError:\n",
        "    print(\"Error: An I/O error occurred while reading the file.\")\n"
      ],
      "metadata": {
        "colab": {
          "base_uri": "https://localhost:8080/"
        },
        "id": "gqJO0cg9kUuL",
        "outputId": "99ae9390-1d9e-43ec-f037-c834343a78e7"
      },
      "execution_count": 19,
      "outputs": [
        {
          "output_type": "stream",
          "name": "stdout",
          "text": [
            "File content:\n",
            " Hello, this is a string written to the file.This is a new line being appended.\n",
            "This is a new line being appended.\n",
            "\n"
          ]
        }
      ]
    },
    {
      "cell_type": "code",
      "source": [
        "#16. Demonstrate how to use memory profiling to check the memory usage of a small program\n",
        " import profile\n",
        "\n",
        "@profile\n",
        "def my_function():\n",
        "    a = [1] * (10 ** 6)  # Allocate a list of size 1 million\n",
        "    b = [2] * (2 * 10 ** 7)  # Allocate a larger list\n",
        "    del b  # Delete one list to free memory\n",
        "    return a\n",
        "\n",
        "if __name__ == '__main__':\n",
        "    my_function()\n"
      ],
      "metadata": {
        "id": "xcWtlWLFkh57"
      },
      "execution_count": null,
      "outputs": []
    },
    {
      "cell_type": "code",
      "source": [
        "#17.Write a Python program to create and write a list of numbers to a file, one number per line?\n",
        "# List of numbers to write to the file\n",
        "numbers = [1, 2, 3, 4, 5, 6, 7, 8, 9, 10]\n",
        "\n",
        "# Open the file in write mode ('w') to create and write\n",
        "with open('numbers.txt', 'w') as file:\n",
        "    # Write each number in the list to a new line in the file\n",
        "    for number in numbers:\n",
        "        file.write(f\"{number}\\n\")\n",
        "\n",
        "print(\"Numbers have been written to 'numbers.txt'\")\n"
      ],
      "metadata": {
        "colab": {
          "base_uri": "https://localhost:8080/"
        },
        "id": "HT1JVAfjkvC_",
        "outputId": "fc30c091-3af9-4d60-acc0-454f71379ba6"
      },
      "execution_count": 20,
      "outputs": [
        {
          "output_type": "stream",
          "name": "stdout",
          "text": [
            "Numbers have been written to 'numbers.txt'\n"
          ]
        }
      ]
    },
    {
      "cell_type": "code",
      "source": [
        "#18.How would you implement a basic logging setup that logs to a file with rotation after 1MB?\n",
        "import logging\n",
        "from logging.handlers import RotatingFileHandler\n",
        "\n",
        "# Create a rotating file handler that logs to 'app.log' and rotates after 1MB\n",
        "handler = RotatingFileHandler('app.log', maxBytes=1e6, backupCount=3)  # maxBytes=1MB, backupCount=3 means keep 3 backup files\n",
        "\n",
        "# Set the logging level to DEBUG (it will log everything from DEBUG level upwards)\n",
        "handler.setLevel(logging.DEBUG)\n",
        "\n",
        "# Create a formatter that includes timestamp, log level, and message\n",
        "formatter = logging.Formatter('%(asctime)s - %(levelname)s - %(message)s')\n",
        "handler.setFormatter(formatter)\n",
        "\n",
        "# Create the logger and set its level to DEBUG\n",
        "logger = logging.getLogger()\n",
        "logger.setLevel(logging.DEBUG)\n",
        "\n",
        "# Add the handler to the logger\n",
        "logger.addHandler(handler)\n",
        "\n",
        "# Example log messages\n",
        "logger.debug(\"This is a debug message.\")\n",
        "logger.info(\"This is an info message.\")\n",
        "logger.warning(\"This is a warning message.\")\n",
        "logger.error(\"This is an error message.\")\n",
        "logger.critical(\"This is a critical message.\")\n",
        "\n"
      ],
      "metadata": {
        "colab": {
          "base_uri": "https://localhost:8080/"
        },
        "id": "C6bwKx1wlET-",
        "outputId": "bbd938b6-156d-41f1-bb47-d7e3f80ff9d0"
      },
      "execution_count": 21,
      "outputs": [
        {
          "output_type": "stream",
          "name": "stderr",
          "text": [
            "DEBUG:root:This is a debug message.\n",
            "INFO:root:This is an info message.\n",
            "WARNING:root:This is a warning message.\n",
            "ERROR:root:This is an error message.\n",
            "CRITICAL:root:This is a critical message.\n"
          ]
        }
      ]
    },
    {
      "cell_type": "code",
      "source": [
        "#19.Write a program that handles both IndexError and KeyError using a try-except block?\n",
        "# Example list and dictionary\n",
        "my_list = [1, 2, 3]\n",
        "my_dict = {'a': 1, 'b': 2}\n",
        "\n",
        "try:\n",
        "    # Trying to access an element from the list using an index that doesn't exist\n",
        "    print(my_list[5])\n",
        "\n",
        "    # Trying to access a key that doesn't exist in the dictionary\n",
        "    print(my_dict['c'])\n",
        "\n",
        "except IndexError:\n",
        "    print(\"Error: List index out of range.\")\n",
        "except KeyError:\n",
        "    print(\"Error: Key not found in the dictionary.\")\n"
      ],
      "metadata": {
        "colab": {
          "base_uri": "https://localhost:8080/"
        },
        "id": "8iicokEGlQJ-",
        "outputId": "47aff438-1b02-4395-ad15-047be3e22606"
      },
      "execution_count": 22,
      "outputs": [
        {
          "output_type": "stream",
          "name": "stdout",
          "text": [
            "Error: List index out of range.\n"
          ]
        }
      ]
    },
    {
      "cell_type": "code",
      "source": [
        "#20. How would you open a file and read its contents using a context manager in Python?\n",
        "# Using the context manager to open and read a file\n",
        "with open('example.txt', 'r') as file:\n",
        "    content = file.read()\n",
        "    print(content)\n",
        "\n"
      ],
      "metadata": {
        "colab": {
          "base_uri": "https://localhost:8080/"
        },
        "id": "hZG6_NzhlZbc",
        "outputId": "1e16339b-cb37-4105-e137-ea443d728fa9"
      },
      "execution_count": 23,
      "outputs": [
        {
          "output_type": "stream",
          "name": "stdout",
          "text": [
            "Hello, this is a string written to the file.This is a new line being appended.\n",
            "This is a new line being appended.\n",
            "\n"
          ]
        }
      ]
    },
    {
      "cell_type": "code",
      "source": [
        "#21.Write a Python program that reads a file and prints the number of occurrences of a specific word?\n",
        "def count_word_occurrences(file_path, target_word):\n",
        "    try:\n",
        "        with open(file_path, 'r') as file:\n",
        "            # Read the content of the file\n",
        "            content = file.read()\n",
        "\n",
        "            # Convert the content to lowercase and split it into words\n",
        "            words = content.lower().split()\n",
        "\n",
        "            # Count the occurrences of the target word\n",
        "            word_count = words.count(target_word.lower())\n",
        "\n",
        "            print(f\"The word '{target_word}' appears {word_count} times in the file.\")\n",
        "    except FileNotFoundError:\n",
        "        print(f\"Error: The file '{file_path}' does not exist.\")\n",
        "    except IOError:\n",
        "        print(\"Error: An error occurred while reading the file.\")\n",
        "\n",
        "# Example usage\n",
        "file_path = 'example.txt'  # Specify the path to your file\n",
        "target_word = 'python'     # Specify the word to count\n",
        "count_word_occurrences(file_path, target_word)\n"
      ],
      "metadata": {
        "colab": {
          "base_uri": "https://localhost:8080/"
        },
        "id": "Qov0ZBbLlkUt",
        "outputId": "1916bfde-9798-4f96-84a9-7d2e883d8dab"
      },
      "execution_count": 24,
      "outputs": [
        {
          "output_type": "stream",
          "name": "stdout",
          "text": [
            "The word 'python' appears 0 times in the file.\n"
          ]
        }
      ]
    },
    {
      "cell_type": "code",
      "source": [
        "#22. How can you check if a file is empty before attempting to read its contents?\n",
        "import os\n",
        "\n",
        "def check_if_file_is_empty(file_path):\n",
        "    try:\n",
        "        # Check if the file exists\n",
        "        if not os.path.exists(file_path):\n",
        "            print(\"Error: The file does not exist.\")\n",
        "            return\n",
        "\n",
        "        # Open the file and check its size\n",
        "        with open(file_path, 'r') as file:\n",
        "            content = file.read()\n",
        "            if len(content) == 0:\n",
        "                print(f\"The file '{file_path}' is empty.\")\n",
        "            else:\n",
        "                print(f\"The file '{file_path}' is not empty. Content: \\n{content}\")\n",
        "    except IOError:\n",
        "        print(f\"Error: An I/O error occurred while reading the file.\")\n",
        "\n",
        "# Example usage\n",
        "file_path = 'example.txt'  # Specify the path to your file\n",
        "check_if_file_is_empty(file_path)\n"
      ],
      "metadata": {
        "colab": {
          "base_uri": "https://localhost:8080/"
        },
        "id": "5_R1RweGluN2",
        "outputId": "03ac275b-99ea-4d7e-8804-abfa632386de"
      },
      "execution_count": 25,
      "outputs": [
        {
          "output_type": "stream",
          "name": "stdout",
          "text": [
            "The file 'example.txt' is not empty. Content: \n",
            "Hello, this is a string written to the file.This is a new line being appended.\n",
            "This is a new line being appended.\n",
            "\n"
          ]
        }
      ]
    },
    {
      "cell_type": "code",
      "source": [
        "#23. Write a Python program that writes to a log file when an error occurs during file handling.\n",
        "import logging\n",
        "\n",
        "# Set up the logging configuration to log errors to a file\n",
        "logging.basicConfig(filename='file_error_log.txt', level=logging.ERROR,\n",
        "                    format='%(asctime)s - %(levelname)s - %(message)s')\n",
        "\n",
        "def read_file(file_path):\n",
        "    try:\n",
        "        # Attempt to open and read the file\n",
        "        with open(file_path, 'r') as file:\n",
        "            content = file.read()\n",
        "            print(content)\n",
        "    except FileNotFoundError:\n",
        "        # Log the error when the file is not found\n",
        "        logging.error(f\"FileNotFoundError: The file '{file_path}' does not exist.\")\n",
        "        print(\"Error: The file does not exist.\")\n",
        "    except IOError as e:\n",
        "        # Log any other I/O error\n",
        "        logging.error(f\"IOError: An error occurred while reading the file '{file_path}'. Error details: {e}\")\n",
        "        print(\"Error: An I/O error occurred.\")\n",
        "    except Exception as e:\n",
        "        # Catch any other unexpected exceptions\n",
        "        logging.error(f\"Unexpected error: {str(e)}\")\n",
        "        print(\"Error: An unexpected error occurred.\")\n",
        "\n",
        "# Example usage\n",
        "file_path = 'non_existent_file.txt'  # Specify a file path that doesn't exist\n",
        "read_file(file_path)\n"
      ],
      "metadata": {
        "colab": {
          "base_uri": "https://localhost:8080/"
        },
        "id": "wKOmhpN8l4xY",
        "outputId": "2e140671-34c1-4b8d-b9ee-4797868a764c"
      },
      "execution_count": 26,
      "outputs": [
        {
          "output_type": "stream",
          "name": "stderr",
          "text": [
            "ERROR:root:FileNotFoundError: The file 'non_existent_file.txt' does not exist.\n"
          ]
        },
        {
          "output_type": "stream",
          "name": "stdout",
          "text": [
            "Error: The file does not exist.\n"
          ]
        }
      ]
    },
    {
      "cell_type": "markdown",
      "source": [],
      "metadata": {
        "id": "rkivHPYOf3bk"
      }
    },
    {
      "cell_type": "code",
      "execution_count": null,
      "metadata": {
        "id": "ShUmGjb2R6yF"
      },
      "outputs": [],
      "source": []
    }
  ]
}